import matplotlib.pyplot as plt
from collections import defaultdict
from IPython.display import display, HTML

#Английский словарь: Категория по цели задания
category_keywords_en = {
    'языковые': [
        'read', 'write', 'complete', 'fill in', 'match', 'underline', 'put the words on',
        'choose the right tense', 'complete the sentences', 'fill in the blanks',
        'put the verbs in the correct form', 'use the correct form of the word',
        'match the words with their meanings', 'find the odd one out', 'sort the words'
    ],
    'условно-коммуникативные': [
        'make a dialogue', 'ask and answer', 'talk', 'role-play', 'singing', 'say in',
        'ask questions using the prompts', 'complete and act out the dialogue',
        'work with your partner', 'say the sentences with the correct intonation',
        'read and act', 'make questions and answers'
    ],
    'коммуникативные': [
        'speak', 'discuss', 'interview', 'describe',
        'talk about your day', 'describe your favourite', 'give a short talk',
        'share your opinion with the class', 'ask and answer freely',
        'prepare a short presentation'
    ]
}

#Английский словарь по ВРД
lrws_keywords_en = {
    'listening': [
        'listen', 'listening', 'hear', 'singing',
        'listen and tick', 'listen and colour', 'listen and draw',
        'listen and guess', 'listen to your friend'
    ],
    'reading': [
        'read', 'reading', 'read and say true or false',
        'read the story and answer', 'read and guess the meaning'
    ],
    'writing': [
        'write', 'writing', 'complete', 'fill in', 'underline',
        'write a short story', 'write about your day',
        'write a postcard', 'write a letter', 'write an email',
        'write your own sentences'
    ],
    'speaking': [
        'make a dialogue', 'ask and answer', 'talk', 'role-play', 'speak',
        'discuss', 'interview', 'describe', 'say',
        'retell the story', 'talk about your favourite',
        'prepare a short dialogue', 'describe the picture to your friend',
        'interview your classmate'
    ]
}

#Русский словарь: Категория по цели задания
category_keywords_ru = {
    'языковые': [
        'вставь', 'подчеркни', 'выбери', 'заполни', 'соедини', 'обозначь ударение',
        'раскрась', 'выпиши', 'найди пары', 'обведи', 'дополни', 'впиши', 'поставь слова',
        'перепиши', 'слушай и повторяй'
    ],
    'условно-коммуникативные': [
        'составь диалог', 'задумай слово', 'работай в паре', 'разыграй диалог',
        'ответь на вопросы', 'задай вопросы', 'продолжи диалог', 'поговори с одноклассником',
        'поиграй', 'обсуди', 'закончи диалог', 'поиграй в роли', 'диалог' , 'прочитай и напиши',
        'подбери'
    ],
    'коммуникативные': [
        'расскажи', 'опиши', 'обсуди', 'задай вопросы другу', 'поделись впечатлениями',
        'представь себя', 'поговори о', 'придумай историю', 'расскажи о', 'поговори с одноклассником',
        'поприветствуй', 'поговори', 'скажи'
    ]
}

#Русский словарь по ВРД
lrws_keywords_ru = {
    'listening': [
        'послушай', 'прослушай', 'услышь', 'послушай и выбери', 'послушай и отметь',
        'послушай и повтори', 'послушай и покажи', 'слушай'
    ],
    'reading': [
        'прочитай', 'прочитай и подчеркни', 'прочитай текст', 'прочитай и впиши'
    ],
    'writing': [
        'напиши', 'впиши', 'допиши', 'вставь слова', 'запиши слова', 'напиши письмо',
        'поприветствуй', 'поговори', 'скажи', 'перепиши'
    ],
    'speaking': [
        'расскажи', 'задай вопросы', 'побеседуй', 'поговори с другом',
        'составь диалог', 'опиши', 'ответь устно', 'обсуди', 'спой', 'повтори'
    ]
}

#Объединённые словари
category_keywords = {k: v + category_keywords_ru.get(k, []) for k, v in category_keywords_en.items()}
lrws_keywords = {k: v + lrws_keywords_ru.get(k, []) for k, v in lrws_keywords_en.items()}

#Счётчики
category_counts = defaultdict(int)
lrws_counts = defaultdict(int)
unclassified_exercises = []

#Функция классификации
def classify_exercise(text_line, keyword_dict):
    text_line = text_line.lower()
    for category, keywords in keyword_dict.items():
        for keyword in keywords:
            if keyword in text_line:
                return category
    return 'unclassified'

#Чтение и обработка
with open('/content/spotlight2.txt', 'r', encoding='utf-8') as file: #например, spolight2.txt -- укажите свой путь к учебнику в txt формате
    for line in file:
        line = line.strip()
        if not line:
            continue
        #Категория
        category = classify_exercise(line, category_keywords)
        if category != 'unclassified':
            category_counts[category] += 1

        #ВРД
        lrws_category = classify_exercise(line, lrws_keywords)
        if lrws_category != 'unclassified':
            lrws_counts[lrws_category] += 1

        #Неопознанные для нахождения "ляпов" в словарях для классификации
        if category == 'unclassified' and lrws_category == 'unclassified':
            unclassified_exercises.append(line)

#Заголовок
text = "Учебник Spotlight 2 класс"
display(HTML(f'<p style="font-family: Times New Roman; font-size: 20px; text-align: left; font-weight: bold;">{text}</p>'))

#Визуализация
plt.figure(figsize=(10, 6))

#Категории
plt.subplot(1, 2, 1)
plt.pie(category_counts.values(), labels=category_counts.keys(), autopct='%1.1f%%', startangle=140, colors=plt.cm.Pastel1.colors)
plt.title('Распределение типов упражнений')

#ВРД
plt.subplot(1, 2, 2)
plt.pie(lrws_counts.values(), labels=lrws_counts.keys(), autopct='%1.1f%%', startangle=140, colors=plt.cm.Pastel1.colors)
plt.title('Распределение упражнений по ВРД')

plt.tight_layout()
plt.show()

#Статистика
print("\nРаспределение типов упражнений:")
for category in category_counts:
    print(f"{category.capitalize()}: {category_counts[category]}")

print("\nРаспределение упражнений по ВРД:")
for category in lrws_counts:
    print(f"{category.capitalize()}: {lrws_counts[category]}")

print(f"\nКоличество нераспознанных упражнений: {len(unclassified_exercises)}")

print("\nUnclassified (не классифицировано):")
for i, ex in enumerate(unclassified_exercises[:1000], 1):
    print(f"{i}. {ex}")
